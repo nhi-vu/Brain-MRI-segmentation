{
  "nbformat": 4,
  "nbformat_minor": 0,
  "metadata": {
    "colab": {
      "name": "Copy of Project Nhi.ipynb",
      "provenance": [],
      "collapsed_sections": []
    },
    "kernelspec": {
      "name": "python3",
      "display_name": "Python 3"
    },
    "language_info": {
      "name": "python"
    }
  },
  "cells": [
    {
      "cell_type": "markdown",
      "metadata": {
        "id": "6JOr10hU0-__"
      },
      "source": [
        "## Import"
      ]
    },
    {
      "cell_type": "code",
      "metadata": {
        "colab": {
          "base_uri": "https://localhost:8080/"
        },
        "id": "eJaLXynKs5_y",
        "outputId": "8c80d54a-a978-446e-ba3f-a996b695c94e"
      },
      "source": [
        "import numpy as np\n",
        "from scipy import stats\n",
        "import pandas as pd\n",
        "import nibabel as nib\n",
        "import glob\n",
        "from tensorflow.keras.utils import to_categorical\n",
        "from tifffile import imsave\n",
        "from tensorflow.keras import utils as np_utils\n",
        "\n",
        "from sklearn.model_selection import train_test_split\n",
        "from sklearn.model_selection import StratifiedKFold\n",
        "from sklearn.preprocessing import StandardScaler\n",
        "from sklearn.svm import SVR\n",
        "from sklearn.model_selection import KFold\n",
        "\n",
        "import matplotlib.pyplot as plt\n",
        "from matplotlib import cm\n",
        "import matplotlib.animation as anim\n",
        "import matplotlib.patches as mpatches\n",
        "import matplotlib.gridspec as gridspec\n",
        "\n",
        "from google.colab import drive \n",
        "drive.mount('/content/drive')"
      ],
      "execution_count": null,
      "outputs": [
        {
          "output_type": "stream",
          "name": "stdout",
          "text": [
            "Mounted at /content/drive\n"
          ]
        }
      ]
    },
    {
      "cell_type": "markdown",
      "metadata": {
        "id": "RHMRvQOo1Dgu"
      },
      "source": [
        "## Unzip data"
      ]
    },
    {
      "cell_type": "code",
      "metadata": {
        "id": "IbFlkLukvtZh"
      },
      "source": [
        "file_path = \"/content/drive/My Drive/Projects/Data/CS184 Data\""
      ],
      "execution_count": null,
      "outputs": []
    },
    {
      "cell_type": "code",
      "metadata": {
        "colab": {
          "base_uri": "https://localhost:8080/"
        },
        "id": "P94I-0ujtua2",
        "outputId": "4ea4979a-4244-46ca-f06d-7accf0a25e79"
      },
      "source": [
        "!ls \"{file_path}\""
      ],
      "execution_count": null,
      "outputs": [
        {
          "output_type": "stream",
          "name": "stdout",
          "text": [
            "ls: cannot access '/content/drive/My Drive/Projects/Data/CS184 Data': No such file or directory\n"
          ]
        }
      ]
    },
    {
      "cell_type": "code",
      "metadata": {
        "id": "GdzSab9JuU9R"
      },
      "source": [
        "# !unzip -u \"{file_path}/MICCAI_BraTS2020_TrainingData.zip\" -d data\n",
        "# !unzip -u \"{file_path}/MICCAI_BraTS2020_ValidationData.zip\" -d data"
      ],
      "execution_count": null,
      "outputs": []
    },
    {
      "cell_type": "code",
      "metadata": {
        "colab": {
          "base_uri": "https://localhost:8080/"
        },
        "id": "DMA86ji0wTBJ",
        "outputId": "cebaeefd-4b13-48f1-9c35-d8682aa5ce38"
      },
      "source": [
        "!ls data"
      ],
      "execution_count": null,
      "outputs": [
        {
          "output_type": "stream",
          "name": "stdout",
          "text": [
            "ls: cannot access 'data': No such file or directory\n"
          ]
        }
      ]
    },
    {
      "cell_type": "markdown",
      "metadata": {
        "id": "VQADuevY5tVK"
      },
      "source": [
        "## Load sample image\n",
        "\n",
        "- References: https://www.kaggle.com/polomarco/brats20-3dunet-3dautoencoder"
      ]
    },
    {
      "cell_type": "code",
      "metadata": {
        "id": "rLxLebkl1I4V"
      },
      "source": [
        "train_data_path = \"../data/MICCAI_BraTS2020_TrainingData\"\n",
        "validation_data_path = \"../data/MICCAI_BraTS2020_ValidationData\""
      ],
      "execution_count": null,
      "outputs": []
    },
    {
      "cell_type": "code",
      "metadata": {
        "colab": {
          "base_uri": "https://localhost:8080/",
          "height": 432
        },
        "id": "p9RW55N11jI5",
        "outputId": "8dd325a2-e155-43ac-e0e2-2f434eabb16a"
      },
      "source": [
        "sample_img = nib.load(f'{train_data_path}/BraTS20_Training_001/BraTS20_Training_001_flair.nii.gz').get_fdata()\n",
        "print(sample_img.shape)"
      ],
      "execution_count": null,
      "outputs": [
        {
          "output_type": "error",
          "ename": "FileNotFoundError",
          "evalue": "ignored",
          "traceback": [
            "\u001b[0;31m---------------------------------------------------------------------------\u001b[0m",
            "\u001b[0;31mFileNotFoundError\u001b[0m                         Traceback (most recent call last)",
            "\u001b[0;32m/usr/local/lib/python3.7/dist-packages/nibabel/loadsave.py\u001b[0m in \u001b[0;36mload\u001b[0;34m(filename, **kwargs)\u001b[0m\n\u001b[1;32m     41\u001b[0m     \u001b[0;32mtry\u001b[0m\u001b[0;34m:\u001b[0m\u001b[0;34m\u001b[0m\u001b[0;34m\u001b[0m\u001b[0m\n\u001b[0;32m---> 42\u001b[0;31m         \u001b[0mstat_result\u001b[0m \u001b[0;34m=\u001b[0m \u001b[0mos\u001b[0m\u001b[0;34m.\u001b[0m\u001b[0mstat\u001b[0m\u001b[0;34m(\u001b[0m\u001b[0mfilename\u001b[0m\u001b[0;34m)\u001b[0m\u001b[0;34m\u001b[0m\u001b[0;34m\u001b[0m\u001b[0m\n\u001b[0m\u001b[1;32m     43\u001b[0m     \u001b[0;32mexcept\u001b[0m \u001b[0mOSError\u001b[0m\u001b[0;34m:\u001b[0m\u001b[0;34m\u001b[0m\u001b[0;34m\u001b[0m\u001b[0m\n",
            "\u001b[0;31mFileNotFoundError\u001b[0m: [Errno 2] No such file or directory: '../data/MICCAI_BraTS2020_TrainingData/BraTS20_Training_001/BraTS20_Training_001_flair.nii.gz'",
            "\nDuring handling of the above exception, another exception occurred:\n",
            "\u001b[0;31mFileNotFoundError\u001b[0m                         Traceback (most recent call last)",
            "\u001b[0;32m<ipython-input-8-31a58e10bc96>\u001b[0m in \u001b[0;36m<module>\u001b[0;34m()\u001b[0m\n\u001b[0;32m----> 1\u001b[0;31m \u001b[0msample_img\u001b[0m \u001b[0;34m=\u001b[0m \u001b[0mnib\u001b[0m\u001b[0;34m.\u001b[0m\u001b[0mload\u001b[0m\u001b[0;34m(\u001b[0m\u001b[0;34mf'{train_data_path}/BraTS20_Training_001/BraTS20_Training_001_flair.nii.gz'\u001b[0m\u001b[0;34m)\u001b[0m\u001b[0;34m.\u001b[0m\u001b[0mget_fdata\u001b[0m\u001b[0;34m(\u001b[0m\u001b[0;34m)\u001b[0m\u001b[0;34m\u001b[0m\u001b[0;34m\u001b[0m\u001b[0m\n\u001b[0m\u001b[1;32m      2\u001b[0m \u001b[0mprint\u001b[0m\u001b[0;34m(\u001b[0m\u001b[0msample_img\u001b[0m\u001b[0;34m.\u001b[0m\u001b[0mshape\u001b[0m\u001b[0;34m)\u001b[0m\u001b[0;34m\u001b[0m\u001b[0;34m\u001b[0m\u001b[0m\n",
            "\u001b[0;32m/usr/local/lib/python3.7/dist-packages/nibabel/loadsave.py\u001b[0m in \u001b[0;36mload\u001b[0;34m(filename, **kwargs)\u001b[0m\n\u001b[1;32m     42\u001b[0m         \u001b[0mstat_result\u001b[0m \u001b[0;34m=\u001b[0m \u001b[0mos\u001b[0m\u001b[0;34m.\u001b[0m\u001b[0mstat\u001b[0m\u001b[0;34m(\u001b[0m\u001b[0mfilename\u001b[0m\u001b[0;34m)\u001b[0m\u001b[0;34m\u001b[0m\u001b[0;34m\u001b[0m\u001b[0m\n\u001b[1;32m     43\u001b[0m     \u001b[0;32mexcept\u001b[0m \u001b[0mOSError\u001b[0m\u001b[0;34m:\u001b[0m\u001b[0;34m\u001b[0m\u001b[0;34m\u001b[0m\u001b[0m\n\u001b[0;32m---> 44\u001b[0;31m         \u001b[0;32mraise\u001b[0m \u001b[0mFileNotFoundError\u001b[0m\u001b[0;34m(\u001b[0m\u001b[0;34m\"No such file or no access: '%s'\"\u001b[0m \u001b[0;34m%\u001b[0m \u001b[0mfilename\u001b[0m\u001b[0;34m)\u001b[0m\u001b[0;34m\u001b[0m\u001b[0;34m\u001b[0m\u001b[0m\n\u001b[0m\u001b[1;32m     45\u001b[0m     \u001b[0;32mif\u001b[0m \u001b[0mstat_result\u001b[0m\u001b[0;34m.\u001b[0m\u001b[0mst_size\u001b[0m \u001b[0;34m<=\u001b[0m \u001b[0;36m0\u001b[0m\u001b[0;34m:\u001b[0m\u001b[0;34m\u001b[0m\u001b[0;34m\u001b[0m\u001b[0m\n\u001b[1;32m     46\u001b[0m         \u001b[0;32mraise\u001b[0m \u001b[0mImageFileError\u001b[0m\u001b[0;34m(\u001b[0m\u001b[0;34m\"Empty file: '%s'\"\u001b[0m \u001b[0;34m%\u001b[0m \u001b[0mfilename\u001b[0m\u001b[0;34m)\u001b[0m\u001b[0;34m\u001b[0m\u001b[0;34m\u001b[0m\u001b[0m\n",
            "\u001b[0;31mFileNotFoundError\u001b[0m: No such file or no access: '../data/MICCAI_BraTS2020_TrainingData/BraTS20_Training_001/BraTS20_Training_001_flair.nii.gz'"
          ]
        }
      ]
    },
    {
      "cell_type": "code",
      "metadata": {
        "id": "7muRPAfk11Zd"
      },
      "source": [
        "fig = plt.figure(figsize=(20, 10))\n",
        "\n",
        "gs = gridspec.GridSpec(nrows=2, ncols=4, height_ratios=[1, 1.5])\n",
        "\n",
        "#  Varying density along a streamline\n",
        "ax0 = fig.add_subplot(gs[0, 0])\n",
        "flair = ax0.imshow(sample_img[:,:,65], cmap='bone')\n",
        "ax0.set_title(\"FLAIR\", fontsize=18, weight='bold', y=-0.2)\n",
        "fig.colorbar(flair)"
      ],
      "execution_count": null,
      "outputs": []
    },
    {
      "cell_type": "code",
      "metadata": {
        "id": "-W8TBii-HC6H"
      },
      "source": [
        "def load_image(file_path):\n",
        "  img = nib.load(file_path).get_fdata()\n",
        "  img = np.rot90(sample_img)\n",
        "  return img\n",
        "\n",
        "\n",
        "def load_images(      \n",
        "    img_num=\"001\",\n",
        "    type='Training',\n",
        "    file_path=train_data_path,\n",
        "  ):\n",
        "  file_path = f\"{file_path}/BraTS20_{type}_{img_num}\"\n",
        "  flair = nib.load(f\"{file_path}/BraTS20_{type}_{img_num}_flair.nii.gz\").get_fdata()\n",
        "  t1 = nib.load(f\"{file_path}/BraTS20_{type}_{img_num}_t1.nii.gz\").get_fdata()\n",
        "  t2 = nib.load(f\"{file_path}/BraTS20_{type}_{img_num}_t2.nii.gz\").get_fdata()\n",
        "  t1ce = nib.load(f\"{file_path}/BraTS20_{type}_{img_num}_t1ce.nii.gz\").get_fdata()\n",
        "  seg = nib.load(f\"{file_path}/BraTS20_{type}_{img_num}_seg.nii.gz\").get_fdata()\n",
        "  return (flair, t1, t2, t1ce, seg)"
      ],
      "execution_count": null,
      "outputs": []
    },
    {
      "cell_type": "code",
      "metadata": {
        "id": "r_7F0B0OBDWw"
      },
      "source": [
        "def show_image(flair, t1, t2, t1ce, seg):\n",
        "  fig = plt.figure(figsize=(20, 10))\n",
        "  gs = gridspec.GridSpec(nrows=2, ncols=4, height_ratios=[1, 1.5])\n",
        "  \n",
        "  ax0 = fig.add_subplot(gs[0, 0])\n",
        "  flair_img = ax0.imshow(flair[:,:,65], cmap='bone')\n",
        "  ax0.set_title(\"FLAIR\", fontsize=18, weight='bold', y=-0.2)\n",
        "  fig.colorbar(flair_img)\n",
        "  \n",
        "  ax1 = fig.add_subplot(gs[0, 1])\n",
        "  t1_img = ax1.imshow(t1[:,:,65], cmap='bone')\n",
        "  ax1.set_title(\"T1\", fontsize=18, weight='bold', y=-0.2)\n",
        "  fig.colorbar(t1_img)\n",
        "  \n",
        "  ax2 = fig.add_subplot(gs[0, 2])\n",
        "  t2_img = ax2.imshow(t2[:,:,65], cmap='bone')\n",
        "  ax2.set_title(\"T2\", fontsize=18, weight='bold', y=-0.2)\n",
        "  fig.colorbar(t2_img)\n",
        "  \n",
        "  ax3 = fig.add_subplot(gs[0, 3])\n",
        "  t1ce_img = ax3.imshow(t1ce[:,:,65], cmap='bone')\n",
        "  ax3.set_title(\"T1 contrast\", fontsize=18, weight='bold', y=-0.2)\n",
        "  fig.colorbar(t1ce_img)\n",
        "  \n",
        "  ax4 = fig.add_subplot(gs[1, 1:3])\n",
        "  seg_img = ax4.imshow(seg[:,:,65], cmap='summer')\n",
        "  ax4.set_title(\"Mask\", fontsize=18, weight='bold', y=-0.2)\n",
        "  \n",
        "\n",
        "  plt.suptitle(\"Multimodal Scans -  Data\", fontsize=20, weight='bold')"
      ],
      "execution_count": null,
      "outputs": []
    },
    {
      "cell_type": "code",
      "metadata": {
        "id": "9kTYvKX4Gh0t"
      },
      "source": [
        "flair, t1, t2, t1ce, seg = load_images()\n",
        "show_image(flair, t1, t2, t1ce, seg)"
      ],
      "execution_count": null,
      "outputs": []
    },
    {
      "cell_type": "markdown",
      "metadata": {
        "id": "PW3CExiONRAt"
      },
      "source": [
        "## Preprocess data"
      ]
    },
    {
      "cell_type": "code",
      "metadata": {
        "id": "RImkf1BjNTCJ"
      },
      "source": [
        "survival_info_df = pd.read_csv(f'{train_data_path}/survival_info.csv')\n",
        "name_mapping_df = pd.read_csv(f'{train_data_path}/name_mapping.csv')\n",
        "\n",
        "name_mapping_df.rename({'BraTS_2020_subject_ID': 'Brats20ID'}, axis=1, inplace=True) \n",
        "\n",
        "\n",
        "df = survival_info_df.merge(name_mapping_df, on=\"Brats20ID\", how=\"right\")\n",
        "print (df.shape)\n",
        "df.head()"
      ],
      "execution_count": null,
      "outputs": []
    },
    {
      "cell_type": "code",
      "metadata": {
        "id": "P0fkvaq_OCx6"
      },
      "source": [
        "def get_file_paths(df):\n",
        "  import os\n",
        "\n",
        "  paths = []\n",
        "  for _, row  in df.iterrows():    \n",
        "    id_ = row['Brats20ID']\n",
        "    phase = id_.split(\"_\")[-2]\n",
        "\n",
        "    if phase == 'Training':\n",
        "      path = os.path.join(train_data_path, id)\n",
        "    else:\n",
        "      path = os.path.join(validation_data_path, id_)\n",
        "    paths.append(path)\n",
        "  return paths"
      ],
      "execution_count": null,
      "outputs": []
    },
    {
      "cell_type": "code",
      "metadata": {
        "id": "HHyln1_uNlvM"
      },
      "source": [
        "file_paths = get_file_paths(df)\n",
        "df['path'] = file_paths\n",
        "\n",
        "#split data on train, test, split\n",
        "#train_df, val_df = train_test_split(train_df, test_size=0.1, random_state=69, shuffle=True)\n",
        "#train_df, val_df = train_df.reset_index(drop=True), val_df.reset_index(drop=True)\n",
        "seed = 1\n",
        "train_data = df.loc[df['Age'].notnull()].reset_index(drop=True)\n",
        "train_data[\"Age_rank\"] =  train_data[\"Age\"] // 10 * 10\n",
        "train_data = train_data.loc[train_data['Brats20ID'] != 'BraTS20_Training_355'].reset_index(drop=True, )\n",
        "\n",
        "skf = StratifiedKFold(\n",
        "    n_splits=7, random_state=seed, shuffle=True\n",
        ")\n",
        "for i, (train_index, val_index) in enumerate(\n",
        "        skf.split(train_data, train_data[\"Age_rank\"])\n",
        "        ):\n",
        "        train_data.loc[val_index, \"fold\"] = i\n",
        "\n",
        "train_df = train_data.loc[train_data['fold'] != 0].reset_index(drop=True)\n",
        "val_df = train_data.loc[train_data['fold'] == 0].reset_index(drop=True)\n",
        "\n",
        "test_df = df.loc[~df['Age'].notnull()].reset_index(drop=True)\n",
        "print(\"train_df:\", train_df.shape, \"val_df:\", val_df.shape, \"test_df:\", test_df.shape)"
      ],
      "execution_count": null,
      "outputs": []
    },
    {
      "cell_type": "code",
      "metadata": {
        "id": "hSQTOVYON4zc"
      },
      "source": [
        "train_df.head()"
      ],
      "execution_count": null,
      "outputs": []
    },
    {
      "cell_type": "code",
      "metadata": {
        "id": "d6ecTPT3Orhh"
      },
      "source": [
        ""
      ],
      "execution_count": null,
      "outputs": []
    }
  ]
}